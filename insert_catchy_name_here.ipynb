{
 "cells": [
  {
   "cell_type": "markdown",
   "id": "c94360c7-122d-4e71-af8f-b42418a29c1a",
   "metadata": {},
   "source": [
    "# Insert Catchy Name Here\n",
    "In this notebook, we can begin to piece together our Python code that will match the environmental data up with the tagged species data.\n",
    "Jackie has added useable parts of Trackpy and access to Ocean Color Data here (Aug4th 21:30 EDT)"
   ]
  },
  {
   "cell_type": "code",
   "execution_count": null,
   "id": "c4935ebc-c5dd-4599-a77e-fbb4a9787580",
   "metadata": {},
   "outputs": [],
   "source": [
    "%matplotlib inline\n",
    "import warnings\n",
    "warnings.simplefilter('ignore')\n",
    "import pandas as pd\n",
    "import matplotlib.pyplot as plt\n",
    "import numpy as np\n",
    "import xarray as xr\n",
    "from datetime import datetime, timedelta\n",
    "from ftplib import FTP\n",
    "import getpass\n",
    "import os.path\n",
    "from os import path\n",
    "import netCDF4\n",
    "from netCDF4 import Dataset\n",
    "import folium\n",
    "from folium.plugins import TimestampedGeoJson\n",
    "from datetime import datetime"
   ]
  },
  {
   "cell_type": "markdown",
   "id": "1f738a43-626a-49f0-8465-03c7c527b1ce",
   "metadata": {},
   "source": [
    "Read in tagged data and extract spatial domain"
   ]
  },
  {
   "cell_type": "code",
   "execution_count": null,
   "id": "ec2cf31b-d954-47a9-8b67-510987328f2b",
   "metadata": {},
   "outputs": [],
   "source": [
    "shark_dir = \"track_shark144020.csv\" # three years of track data from Laura's shark\n",
    "track_ex = pd.read_csv(shark_dir, parse_dates=['datetime'])\n",
    "\n",
    "## Keep longitude in degrees east\n",
    "track_ex[\"lon\"] = np.where(\n",
    "    track_ex[\"lon\"] > 180,\n",
    "    track_ex[\"lon\"] - 360,\n",
    "    track_ex[\"lon\"])\n",
    "\n",
    "lat_min = track_ex[\"lat\"].min() - 2.0\n",
    "lat_max = track_ex[\"lat\"].max() + 2.0\n",
    "lon_min = track_ex[\"lon\"].min() - 2.0\n",
    "lon_max = track_ex[\"lon\"].max() + 2.0\n",
    "\n",
    "xy_bbox = dict(latitude=slice(lat_min,lat_max), longitude=slice(lon_min,lon_max))\n",
    "\n",
    "plt.plot(track_ex.lon,track_ex.lat)\n",
    "\n",
    "xy_bbox"
   ]
  },
  {
   "cell_type": "markdown",
   "id": "0371d4e7-53a2-4eb6-90d4-bb477081c1b6",
   "metadata": {},
   "source": [
    "Trackpy core: Python version of Xtractomatic tool often used in R and Matlab. Does not yes work for us, needs to be outfitted with appropriate environmental data. This piece of code seems to work through each row of the tagged data, and extract the environmental variable at the time and location of the tagged data."
   ]
  },
  {
   "cell_type": "code",
   "execution_count": null,
   "id": "b7403ee6-6087-45b2-b2c4-3c9efd40a076",
   "metadata": {},
   "outputs": [],
   "source": [
    "sst_df_list = []\n",
    "for index, row in track_ex.iterrows():\n",
    "    row_time = pd.to_datetime(row[\"datetime\"]) \n",
    "    x = row_time.strftime('%Y-%m-%d')\n",
    "    row_lat_min = row[\"lat\"] - 0.1\n",
    "    row_lat_max = row[\"lat\"] + 0.1\n",
    "    row_lon_min = row[\"lon\"] - 0.05\n",
    "    row_lon_max = row[\"lon\"] + 0.05\n",
    "    row_bbox = subset_2014.sel(latitude=slice(row_lat_min,row_lat_max), longitude=slice(row_lon_min,row_lon_max))\n",
    "    row_sst= row_bbox.sel(time=x)\n",
    "    sst_xy_mean = row_sst.mean(dim=('latitude', 'longitude'))\n",
    "    row_todf = sst_xy_mean.to_dataframe()\n",
    "    #row_todf = row_sst.to_dataframe()\n",
    "    sst_df_list.append(row_todf)\n",
    "    #track_ex[]\n",
    "    \n",
    "sst_df = pd.concat(sst_df_list, ignore_index = True)\n",
    "track_ex = pd.concat([track_ex, sst_df], axis=1)"
   ]
  },
  {
   "cell_type": "markdown",
   "id": "576051c8-b0ca-499f-81ab-e33b47c51e46",
   "metadata": {},
   "source": [
    "could also grab a lot of the plotting code from the Trackpy code"
   ]
  },
  {
   "cell_type": "markdown",
   "id": "9fc4fbc9-3293-42bb-a320-970042a4691b",
   "metadata": {},
   "source": [
    "Accessing ocean color data from MODIS-A and formatting in Xarray, slicing for tagged species data"
   ]
  },
  {
   "cell_type": "code",
   "execution_count": null,
   "id": "1465fdd4-09b9-4f84-85f6-828d6c67869a",
   "metadata": {},
   "outputs": [],
   "source": [
    "# testing ocean color access with just a few tagged species datapoints\n",
    "track_2014 = track_ex.iloc[0:10]"
   ]
  },
  {
   "cell_type": "code",
   "execution_count": null,
   "id": "27386287-ef55-4fd7-bd9e-b6697bdd1ea4",
   "metadata": {},
   "outputs": [],
   "source": [
    "# calculate year day for time range of tagged data\n",
    "day_list = []\n",
    "year_list = []\n",
    "for index, row in track_2014.iterrows():\n",
    "    row_time = pd.to_datetime(row[\"datetime\"])\n",
    "    day_of_year = datetime(row_time.year, row_time.month, row_time.day).timetuple().tm_yday\n",
    "    year_list.append(row_time.year)\n",
    "    day_list.append(day_of_year)\n",
    "day_string = [str(x) for x in day_list]\n",
    "year_string = [str(x) for x in year_list]\n",
    "\n",
    "# create access url for ocean color on opendap, merge datafiles to xarray\n",
    "url = []\n",
    "base_dir = 'https://oceandata.sci.gsfc.nasa.gov/opendap/hyrax/MODISA/L3SMI/'\n",
    "suffix = '.L3m_DAY_CHL_chlor_a_4km.nc'\n",
    "\n",
    "k = 0\n",
    "for day in day_string:\n",
    "    url.append('https://oceandata.sci.gsfc.nasa.gov:443/opendap/MODISA/L3SMI/' + year_string[k] +'/' + day + '/A'+year_string[k] + day + '.L3m_DAY_CHL_chlor_a_4km.nc')\n",
    "    k = k+1\n",
    "\n",
    "def add_id(ds):\n",
    "    ds.coords['time_coverage_start'] = ds.attrs['time_coverage_start']\n",
    "    return ds\n",
    "\n",
    "chl = xr.open_mfdataset(url, combine = 'nested', concat_dim='time_coverage_start', preprocess=add_id)\n",
    "chl = chl.sel( lat=slice(lat_max, lat_min), lon=slice(lon_min,lon_max)) # these data have the lat indexed backwards... no idea why, but it works this way\n",
    "chl"
   ]
  },
  {
   "cell_type": "code",
   "execution_count": null,
   "id": "e44db726-de5a-4955-a8ba-a00b16c53ff7",
   "metadata": {},
   "outputs": [],
   "source": []
  }
 ],
 "metadata": {
  "kernelspec": {
   "display_name": "Python 3 (ipykernel)",
   "language": "python",
   "name": "python3"
  },
  "language_info": {
   "codemirror_mode": {
    "name": "ipython",
    "version": 3
   },
   "file_extension": ".py",
   "mimetype": "text/x-python",
   "name": "python",
   "nbconvert_exporter": "python",
   "pygments_lexer": "ipython3",
   "version": "3.9.6"
  }
 },
 "nbformat": 4,
 "nbformat_minor": 5
}
